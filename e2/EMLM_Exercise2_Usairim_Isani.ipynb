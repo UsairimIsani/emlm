{
 "cells": [
  {
   "attachments": {},
   "cell_type": "markdown",
   "metadata": {},
   "source": [
    "Usairim Isani <br>\n",
    "Student number 2206784 <br>\n",
    "February, 6, 2023  <br>"
   ]
  },
  {
   "cell_type": "markdown",
   "metadata": {},
   "source": [
    "# Exercise 2 | TKO_7092 Evaluation of Machine Learning Methods 2023"
   ]
  },
  {
   "cell_type": "markdown",
   "metadata": {},
   "source": [
    "### Prediction of the metal ion content from multi-parameter data\n",
    "##### Use K-Nearest Neighbor Regression with euclidean distance to predict total metal concentration (c_total), concentration of Cadmium (Cd) and concentration of Lead (Pb), for each sample using number of neighbors k = 3.<br> \n",
    "\n",
    "    - You may use Nearest Neighbor Regression from https://scikit-learn.org/stable/modules/neighbors.html\n",
    "    - The data should be standarized using z-score. (Using sklearn.preprocessing.StandardScaler is allowed)\n",
    "    - Implement your own Leave-One-Out cross-validation and calculate the C-index for each output (c_total, Cd, Pb). \n",
    "    - Implement your own Leave-Replicas-Out cross-validation and calculate the C-index for each output (c_total, Cd, Pb).\n",
    "    - Return your solution as a Jupyter Notebook .ipynb notebook and as a PDF-file made from it.\n",
    "    - Submit to moodle your solution on ** Wednesday 8 of February ** at the latest."
   ]
  },
  {
   "cell_type": "markdown",
   "metadata": {},
   "source": [
    "## Import libraries"
   ]
  },
  {
   "cell_type": "code",
   "execution_count": 146,
   "metadata": {},
   "outputs": [],
   "source": [
    "#In this cell import all libraries you need. For example: \n",
    "import numpy as np\n",
    "import pandas as pd\n",
    "from sklearn.preprocessing import StandardScaler\n",
    "import matplotlib.pyplot as plt\n",
    "from sklearn.neighbors import KNeighborsRegressor\n"
   ]
  },
  {
   "cell_type": "markdown",
   "metadata": {},
   "source": [
    "## Read and visualize the dataset"
   ]
  },
  {
   "cell_type": "code",
   "execution_count": 147,
   "metadata": {},
   "outputs": [
    {
     "name": "stdout",
     "output_type": "stream",
     "text": [
      "Rows     : 225\n",
      "Columns  : 6\n",
      "\n"
     ]
    },
    {
     "data": {
      "text/html": [
       "<div>\n",
       "<style scoped>\n",
       "    .dataframe tbody tr th:only-of-type {\n",
       "        vertical-align: middle;\n",
       "    }\n",
       "\n",
       "    .dataframe tbody tr th {\n",
       "        vertical-align: top;\n",
       "    }\n",
       "\n",
       "    .dataframe thead th {\n",
       "        text-align: right;\n",
       "    }\n",
       "</style>\n",
       "<table border=\"1\" class=\"dataframe\">\n",
       "  <thead>\n",
       "    <tr style=\"text-align: right;\">\n",
       "      <th></th>\n",
       "      <th>c_total</th>\n",
       "      <th>Cd</th>\n",
       "      <th>Pb</th>\n",
       "      <th>Mod1</th>\n",
       "      <th>Mod2</th>\n",
       "      <th>Mod3</th>\n",
       "    </tr>\n",
       "  </thead>\n",
       "  <tbody>\n",
       "    <tr>\n",
       "      <th>0</th>\n",
       "      <td>0</td>\n",
       "      <td>0.0</td>\n",
       "      <td>0.0</td>\n",
       "      <td>9945</td>\n",
       "      <td>119</td>\n",
       "      <td>72335</td>\n",
       "    </tr>\n",
       "    <tr>\n",
       "      <th>1</th>\n",
       "      <td>0</td>\n",
       "      <td>0.0</td>\n",
       "      <td>0.0</td>\n",
       "      <td>10786</td>\n",
       "      <td>117</td>\n",
       "      <td>82977</td>\n",
       "    </tr>\n",
       "    <tr>\n",
       "      <th>2</th>\n",
       "      <td>0</td>\n",
       "      <td>0.0</td>\n",
       "      <td>0.0</td>\n",
       "      <td>10812</td>\n",
       "      <td>120</td>\n",
       "      <td>98594</td>\n",
       "    </tr>\n",
       "    <tr>\n",
       "      <th>3</th>\n",
       "      <td>14</td>\n",
       "      <td>0.0</td>\n",
       "      <td>14.0</td>\n",
       "      <td>9742</td>\n",
       "      <td>127</td>\n",
       "      <td>154323</td>\n",
       "    </tr>\n",
       "    <tr>\n",
       "      <th>4</th>\n",
       "      <td>14</td>\n",
       "      <td>0.0</td>\n",
       "      <td>14.0</td>\n",
       "      <td>8495</td>\n",
       "      <td>120</td>\n",
       "      <td>131672</td>\n",
       "    </tr>\n",
       "  </tbody>\n",
       "</table>\n",
       "</div>"
      ],
      "text/plain": [
       "   c_total   Cd    Pb   Mod1  Mod2    Mod3\n",
       "0        0  0.0   0.0   9945   119   72335\n",
       "1        0  0.0   0.0  10786   117   82977\n",
       "2        0  0.0   0.0  10812   120   98594\n",
       "3       14  0.0  14.0   9742   127  154323\n",
       "4       14  0.0  14.0   8495   120  131672"
      ]
     },
     "execution_count": 147,
     "metadata": {},
     "output_type": "execute_result"
    }
   ],
   "source": [
    "#In this cell read the file Water_data.csv\n",
    "#Print the dataset dimesions (i.e. number of rows and columns)\n",
    "#Print the first 5 rows of the dataset\n",
    "\n",
    "water_df = pd.read_csv(\"./Water_data.csv\")\n",
    "print(f'Rows     : {water_df.shape[0]}\\nColumns  : {water_df.shape[1]}\\n')\n",
    "\n",
    "features = ['Mod1', 'Mod2', 'Mod3']\n",
    "labels = ['c_total', 'Cd', 'Pb']\n",
    "\n",
    "water_df.head(5)\n"
   ]
  },
  {
   "cell_type": "markdown",
   "metadata": {},
   "source": [
    "#### To show understanding of the data, answer the following questions:\n",
    "- How many different mixtures of Cadmium (Cd) and Lead (Pb) were measured? <br>\n",
    "- How many total concentrations (c_total) were measured? <br>\n",
    "- How many mixtures have less than 4 replicas? <br>\n",
    "- Make plots of Lead (Pb) and Cadmium (Cd) mixtures for low and high concentrations. <br>\n",
    "Where low concentrations are those with c_total <= 100, while in high concentration c_total > 100.<br>\n",
    "Hint: plots are similar to the ones presented in the video lecture.  "
   ]
  },
  {
   "cell_type": "code",
   "execution_count": 148,
   "metadata": {},
   "outputs": [
    {
     "name": "stdout",
     "output_type": "stream",
     "text": [
      "               c_total  Mod1  Mod2  Mod3\n",
      "Cd     Pb                               \n",
      "0.0    0.0           3     3     3     3\n",
      "       14.0          3     3     3     3\n",
      "       20.0          3     3     3     3\n",
      "       35.0          3     3     3     3\n",
      "       50.0          4     4     4     4\n",
      "...                ...   ...   ...   ...\n",
      "2000.0 0.0           3     3     3     3\n",
      "       3000.0        3     3     3     3\n",
      "3000.0 2000.0        3     3     3     3\n",
      "4000.0 1000.0        3     3     3     3\n",
      "5000.0 0.0           3     3     3     3\n",
      "\n",
      "[67 rows x 4 columns]\n",
      "\n",
      "There are 67 Mixtures of Cd and Pb\n",
      "\n",
      "\n"
     ]
    }
   ],
   "source": [
    "# In this cell write the code to answer the previous questions and print the answers.\n",
    "\n",
    "mixtures = water_df.groupby([\"Cd\", \"Pb\"]).count()\n",
    "\n",
    "print(mixtures)\n",
    "print()\n",
    "print(f'There are {mixtures.shape[0]} Mixtures of Cd and Pb\\n\\n')\n",
    "\n",
    "\n"
   ]
  },
  {
   "cell_type": "code",
   "execution_count": 149,
   "metadata": {},
   "outputs": [
    {
     "name": "stdout",
     "output_type": "stream",
     "text": [
      "c_total\n",
      "0        3\n",
      "14      18\n",
      "20      18\n",
      "35      18\n",
      "50      24\n",
      "70      24\n",
      "100     24\n",
      "200     24\n",
      "500     18\n",
      "1000    18\n",
      "2000    18\n",
      "5000    18\n",
      "Name: c_total, dtype: int64\n",
      "\n",
      "There are 12 concentrations\n",
      "\n",
      "\n"
     ]
    }
   ],
   "source": [
    "c_total = water_df.groupby([\"c_total\"])[\"c_total\"].count()\n",
    "\n",
    "print(c_total)\n",
    "print()\n",
    "print(f'There are {c_total.shape[0]} concentrations\\n\\n')"
   ]
  },
  {
   "cell_type": "code",
   "execution_count": 150,
   "metadata": {},
   "outputs": [
    {
     "name": "stdout",
     "output_type": "stream",
     "text": [
      "Mixtures with less than 4 replicas are : 43\n",
      "\n",
      "\n"
     ]
    }
   ],
   "source": [
    "replicas_less_4 = mixtures[mixtures[\"c_total\"] < 4].shape[0]\n",
    "print(f'Mixtures with less than 4 replicas are : {replicas_less_4}\\n\\n')"
   ]
  },
  {
   "cell_type": "code",
   "execution_count": 151,
   "metadata": {},
   "outputs": [
    {
     "data": {
      "image/png": "[encoded data removed]",
      "text/plain": [
       "<Figure size 640x480 with 1 Axes>"
      ]
     },
     "metadata": {},
     "output_type": "display_data"
    },
    {
     "data": {
      "image/png": "[encoded data removed]",
      "text/plain": [
       "<Figure size 640x480 with 1 Axes>"
      ]
     },
     "metadata": {},
     "output_type": "display_data"
    }
   ],
   "source": [
    "low_conc = water_df[water_df[\"c_total\"]<= 100]\n",
    "high_conc = water_df[water_df[\"c_total\"] > 100]\n",
    "\n",
    "\n",
    "ax = low_conc.plot.scatter(x=\"Cd\", y=\"Pb\")\n",
    "ax.set_title(\"Low Concentration\")\n",
    "ax.grid()\n",
    "\n",
    "ax = high_conc.plot.scatter(x=\"Cd\", y=\"Pb\")\n",
    "ax.set_title(\"High Concentration\")\n",
    "ax.grid()"
   ]
  },
  {
   "cell_type": "markdown",
   "metadata": {},
   "source": [
    "## Standardization of the dataset"
   ]
  },
  {
   "cell_type": "code",
   "execution_count": 152,
   "metadata": {},
   "outputs": [
    {
     "data": {
      "text/html": [
       "<div>\n",
       "<style scoped>\n",
       "    .dataframe tbody tr th:only-of-type {\n",
       "        vertical-align: middle;\n",
       "    }\n",
       "\n",
       "    .dataframe tbody tr th {\n",
       "        vertical-align: top;\n",
       "    }\n",
       "\n",
       "    .dataframe thead th {\n",
       "        text-align: right;\n",
       "    }\n",
       "</style>\n",
       "<table border=\"1\" class=\"dataframe\">\n",
       "  <thead>\n",
       "    <tr style=\"text-align: right;\">\n",
       "      <th></th>\n",
       "      <th>c_total</th>\n",
       "      <th>Cd</th>\n",
       "      <th>Pb</th>\n",
       "      <th>Mod1</th>\n",
       "      <th>Mod2</th>\n",
       "      <th>Mod3</th>\n",
       "    </tr>\n",
       "  </thead>\n",
       "  <tbody>\n",
       "    <tr>\n",
       "      <th>0</th>\n",
       "      <td>0</td>\n",
       "      <td>0.0</td>\n",
       "      <td>0.0</td>\n",
       "      <td>-0.999216</td>\n",
       "      <td>-0.714208</td>\n",
       "      <td>-0.414911</td>\n",
       "    </tr>\n",
       "    <tr>\n",
       "      <th>1</th>\n",
       "      <td>0</td>\n",
       "      <td>0.0</td>\n",
       "      <td>0.0</td>\n",
       "      <td>-0.990800</td>\n",
       "      <td>-0.714373</td>\n",
       "      <td>-0.238335</td>\n",
       "    </tr>\n",
       "    <tr>\n",
       "      <th>2</th>\n",
       "      <td>0</td>\n",
       "      <td>0.0</td>\n",
       "      <td>0.0</td>\n",
       "      <td>-0.990539</td>\n",
       "      <td>-0.714125</td>\n",
       "      <td>0.020788</td>\n",
       "    </tr>\n",
       "    <tr>\n",
       "      <th>3</th>\n",
       "      <td>14</td>\n",
       "      <td>0.0</td>\n",
       "      <td>14.0</td>\n",
       "      <td>-1.001247</td>\n",
       "      <td>-0.713546</td>\n",
       "      <td>0.945465</td>\n",
       "    </tr>\n",
       "    <tr>\n",
       "      <th>4</th>\n",
       "      <td>14</td>\n",
       "      <td>0.0</td>\n",
       "      <td>14.0</td>\n",
       "      <td>-1.013727</td>\n",
       "      <td>-0.714125</td>\n",
       "      <td>0.569631</td>\n",
       "    </tr>\n",
       "  </tbody>\n",
       "</table>\n",
       "</div>"
      ],
      "text/plain": [
       "   c_total   Cd    Pb      Mod1      Mod2      Mod3\n",
       "0        0  0.0   0.0 -0.999216 -0.714208 -0.414911\n",
       "1        0  0.0   0.0 -0.990800 -0.714373 -0.238335\n",
       "2        0  0.0   0.0 -0.990539 -0.714125  0.020788\n",
       "3       14  0.0  14.0 -1.001247 -0.713546  0.945465\n",
       "4       14  0.0  14.0 -1.013727 -0.714125  0.569631"
      ]
     },
     "execution_count": 152,
     "metadata": {},
     "output_type": "execute_result"
    }
   ],
   "source": [
    "#In this cell standardize the dataset features by removing the mean and scaling to unit variance. \n",
    "#In other words, use z-score to scale the dataset features (Mod1, Mod2, Mod3) \n",
    "#Print the 5 first samples (i.e. rows) of the scaled dataset\n",
    "ss = StandardScaler()\n",
    "water_df[[\"Mod1\", \"Mod2\", \"Mod3\"]] = ss.fit_transform(water_df[[\"Mod1\", \"Mod2\", \"Mod3\"]])\n",
    "water_df.head(5)"
   ]
  },
  {
   "cell_type": "markdown",
   "metadata": {},
   "source": [
    "## C-index code "
   ]
  },
  {
   "cell_type": "code",
   "execution_count": 153,
   "metadata": {},
   "outputs": [],
   "source": [
    "def cindex(true_labels, pred_labels):\n",
    "    \"\"\"Returns C-index between true labels and predicted labels\"\"\"  \n",
    "    n = 0\n",
    "    h_num = 0 \n",
    "    for i in range(0, len(true_labels)):\n",
    "        t = true_labels[i]\n",
    "        p = pred_labels[i]\n",
    "        for j in range(i+1, len(true_labels)):\n",
    "            nt = true_labels[j]\n",
    "            np = pred_labels[j]\n",
    "            if (t != nt): \n",
    "                n = n + 1\n",
    "                if (p < np and t < nt) or (p > np and t > nt): \n",
    "                    h_num += 1\n",
    "                elif (p == np):\n",
    "                    h_num += 0.5\n",
    "    return h_num/n"
   ]
  },
  {
   "cell_type": "code",
   "execution_count": 154,
   "metadata": {},
   "outputs": [
    {
     "name": "stdout",
     "output_type": "stream",
     "text": [
      "0.75\n"
     ]
    }
   ],
   "source": [
    "#test cindex function with following values\n",
    "true_labels = [-1, 1, 1, -1, 1]\n",
    "predictions = [0.60, 0.80, 0.75, 0.75, 0.70]\n",
    "cindx = cindex(true_labels, predictions)\n",
    "print(cindx)"
   ]
  },
  {
   "cell_type": "markdown",
   "metadata": {},
   "source": [
    "## Functions"
   ]
  },
  {
   "cell_type": "markdown",
   "metadata": {},
   "source": [
    "Include here all the functions that you need to run in the data analysis part.<br>\n",
    "**Note:** using a leave-one-out and leave-replicas-out cross-validation from an already made package (e.g. Scikit-learn) is not accepted."
   ]
  },
  {
   "cell_type": "code",
   "execution_count": 155,
   "metadata": {},
   "outputs": [],
   "source": [
    "def LeaveOneOut(data):\n",
    "    data = [*range(data)]\n",
    "    for i in data:\n",
    "        test_index = i\n",
    "        train_index = []\n",
    "\n",
    "        for j in data:\n",
    "            if j != test_index:\n",
    "                train_index.append(j)\n",
    "        yield train_index, [test_index]\n",
    "\n",
    "def LeaveReplicasOut(df_grouped, df_rows):\n",
    "    for name, group in df_grouped: \n",
    "        test_index = list(group.index)\n",
    "        train_index = []\n",
    "        \n",
    "        for j in range(df_rows):\n",
    "            if j not in test_index:\n",
    "                train_index.append(j)\n",
    "        yield train_index, test_index\n",
    "\n"
   ]
  },
  {
   "cell_type": "markdown",
   "metadata": {},
   "source": [
    "## Results for Leave-One-Out cross-validation"
   ]
  },
  {
   "cell_type": "code",
   "execution_count": 156,
   "metadata": {},
   "outputs": [],
   "source": [
    "# In this cell run your script for Leave-One-Out cross-validation and print the corresponding results.\n",
    "\n",
    "knn = KNeighborsRegressor(n_neighbors=3)\n",
    "\n",
    "c_total_pred, c_total_true = [], []\n",
    "Cd_pred, Cd_true = [], []\n",
    "Pb_pred, Pb_true = [], []\n",
    "\n",
    "for _, (train_index, test_index) in enumerate(LeaveOneOut(water_df.shape[0])):\n",
    "\n",
    "    X_train, y_train = water_df.loc[train_index,\n",
    "                                    features].values, water_df.loc[train_index, labels].values\n",
    "    X_test, y_test = water_df.loc[test_index,\n",
    "                                  features].values, water_df.loc[test_index, labels].values\n",
    "\n",
    "    knn.fit(X_train, y_train)\n",
    "\n",
    "    prediction = knn.predict(X_test)[0]\n",
    "    true_label = y_test[0]\n",
    "\n",
    "    c_total_pred.append(prediction[0])\n",
    "    c_total_true.append(true_label[0])\n",
    "\n",
    "    Cd_pred.append(prediction[1])\n",
    "    Cd_true.append(true_label[1])\n",
    "\n",
    "    Pb_pred.append(prediction[2])\n",
    "    Pb_true.append(true_label[2])\n"
   ]
  },
  {
   "cell_type": "code",
   "execution_count": 157,
   "metadata": {},
   "outputs": [
    {
     "name": "stdout",
     "output_type": "stream",
     "text": [
      "The cindex for c_total is 0.9141907740422205\n",
      "\n",
      "The cindex for Cd is 0.8995907629348144\n",
      "\n",
      "The cindex for Pb is 0.8744519146448407\n",
      "\n"
     ]
    }
   ],
   "source": [
    "print(f'The cindex for c_total is {cindex(c_total_true, c_total_pred)}\\n')\n",
    "print(f'The cindex for Cd is {cindex(Cd_true, Cd_pred)}\\n')\n",
    "print(f'The cindex for Pb is {cindex(Pb_true, Pb_pred)}\\n')"
   ]
  },
  {
   "cell_type": "markdown",
   "metadata": {},
   "source": [
    "## Results for Leave-Replicas-Out cross-validation"
   ]
  },
  {
   "cell_type": "code",
   "execution_count": 158,
   "metadata": {},
   "outputs": [],
   "source": [
    "# In this cell run your script for Leave-Replicas-Out cross-validation and print the corresponding results.\n",
    "knn = KNeighborsRegressor(n_neighbors=3)\n",
    "df_grouped = water_df.groupby(['c_total', 'Cd', 'Pb'])\n",
    "\n",
    "c_total_pred, c_total_true = [], []\n",
    "Cd_pred, Cd_true = [], []\n",
    "Pb_pred, Pb_true = [], []\n",
    "\n",
    "for fold, (train_index, test_index) in enumerate(LeaveReplicasOut(df_grouped, water_df.shape[0])):\n",
    "\n",
    "    X_train, y_train = water_df.loc[train_index,\n",
    "                                    features].values, water_df.loc[train_index, labels].values\n",
    "    X_test, y_test = water_df.loc[test_index,\n",
    "                                  features].values, water_df.loc[test_index, labels].values\n",
    "\n",
    "    knn.fit(X_train, y_train)\n",
    "\n",
    "    prediction = knn.predict(X_test)[0]\n",
    "    true_label = y_test[0]\n",
    "\n",
    "    c_total_pred.append(prediction[0])\n",
    "    c_total_true.append(true_label[0])\n",
    "\n",
    "    Cd_pred.append(prediction[1])\n",
    "    Cd_true.append(true_label[1])\n",
    "\n",
    "    Pb_pred.append(prediction[2])\n",
    "    Pb_true.append(true_label[2])\n"
   ]
  },
  {
   "cell_type": "code",
   "execution_count": 159,
   "metadata": {},
   "outputs": [
    {
     "name": "stdout",
     "output_type": "stream",
     "text": [
      "The cindex for c_total is 0.833822091886608\n",
      "\n",
      "The cindex for Cd is 0.7631826741996234\n",
      "\n",
      "The cindex for Pb is 0.7688323917137476\n",
      "\n"
     ]
    }
   ],
   "source": [
    "print(f'The cindex for c_total is {cindex(c_total_true, c_total_pred)}\\n')\n",
    "print(f'The cindex for Cd is {cindex(Cd_true, Cd_pred)}\\n')\n",
    "print(f'The cindex for Pb is {cindex(Pb_true, Pb_pred)}\\n')\n"
   ]
  },
  {
   "cell_type": "markdown",
   "metadata": {},
   "source": [
    "## Interpretation of results\n",
    "#### Answer the following questions based on the results obtained\n",
    "- Which cross-validation approach had more optimistic results?\n",
    "- Which cross-validation generalize better on unseen data? Why?"
   ]
  },
  {
   "attachments": {},
   "cell_type": "markdown",
   "metadata": {},
   "source": [
    "**The Leave One Out Cross Validation is more optimistic. Data from each group is dependent and one instance is used for testing and the remaining instances of the group are used for training leading to leakage, in turn leading the model to perform good.**\n",
    "\n",
    "**The Leave Replica Out approach of cross validation has lower accuracy compared to the Leave One Out Cross Validation. But this lower accuracy is traded off with better generalization. Since the whole group is used for testing and removed in the training phases resulting in no leakage of replicas into the model.**"
   ]
  }
 ],
 "metadata": {
  "kernelspec": {
   "display_name": "Python 3",
   "language": "python",
   "name": "python3"
  },
  "language_info": {
   "codemirror_mode": {
    "name": "ipython",
    "version": 3
   },
   "file_extension": ".py",
   "mimetype": "text/x-python",
   "name": "python",
   "nbconvert_exporter": "python",
   "pygments_lexer": "ipython3",
   "version": "3.10.7"
  },
  "toc": {
   "base_numbering": 1,
   "nav_menu": {},
   "number_sections": false,
   "sideBar": true,
   "skip_h1_title": false,
   "title_cell": "Table of Contents",
   "title_sidebar": "Contents",
   "toc_cell": false,
   "toc_position": {},
   "toc_section_display": true,
   "toc_window_display": true
  },
  "varInspector": {
   "cols": {
    "lenName": 16,
    "lenType": 16,
    "lenVar": 40
   },
   "kernels_config": {
    "python": {
     "delete_cmd_postfix": "",
     "delete_cmd_prefix": "del ",
     "library": "var_list.py",
     "varRefreshCmd": "print(var_dic_list())"
    },
    "r": {
     "delete_cmd_postfix": ") ",
     "delete_cmd_prefix": "rm(",
     "library": "var_list.r",
     "varRefreshCmd": "cat(var_dic_list()) "
    }
   },
   "types_to_exclude": [
    "module",
    "function",
    "builtin_function_or_method",
    "instance",
    "_Feature"
   ],
   "window_display": false
  },
  "vscode": {
   "interpreter": {
    "hash": "31f2aee4e71d21fbe5cf8b01ff0e069b9275f58929596ceb00d14d90e3e16cd6"
   }
  }
 },
 "nbformat": 4,
 "nbformat_minor": 4
}
