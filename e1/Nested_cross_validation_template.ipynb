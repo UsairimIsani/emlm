{
 "cells": [
  {
   "cell_type": "markdown",
   "metadata": {},
   "source": [
    "# 1. Nested cross-validation exercise\n",
    "## Nested cross-validation for feature selection with nearest neighbors <br>\n",
    "- Use Python 3 to program both a hyper-parameter selection method based on leave-one-out cross-validation and a nested leave-one-out cross-validation for estimating the prediction performance of models inferred with this automatic selection approach. Use base learning algorithm provided in the exercise, namely the \"use_ith_feature\" method, so that the value of the hyper-parameter i is automatically selected from the range from 1 to 100 of alternative values. The provided base learning algorithm \"use_ith_feature\" is 1-nearest neighbor that uses only the ith feature of the data given to it. The LOOCV based hyper-parameter selection procedure is supposed to select the best feature, e.g. the value of i, based on C-index evaluated with predictions obtained with leave-one-out cross-validation. A ready-made implementation of C-index is also provided in the exercise. In nested leave-one-out cross-validation, a C_index value is further evaluated on the predictions obtained from an outer leave-one-out cross-validation. During each round of this outer LOOCV, the whole feature selection process based on inner LOOCV is separately done and the selected feature is used for prediction for the test data point held out during that round of the outer LOOCV. Accordingly, the actual learning algorithm, whose prediction performance will be evaluated with nested CV, is the one that automatically selects the single best feature with leave-one-out cross-validation based model selection (see the lectures and the pseudo codes presented on them for more info on this interpretation).\n",
    "- Note that since the hold-out set in LOOCV has only a single datum but C-index requires at least two data points. The solution in this exercise is to \"pool\" the predictions of all LOOCV rounds of a single LOOCV computation into an array of length of the data used in that LOOCV computation and then compute C-index on that array and the corresponding true outputs. This pooling approach, however, does have its weaknesses, since C-index computed from pooled LOOCV outputs may sometimes be a heavily biased estimator of the true C-index. This has been considered in detail in our previous research (and other group's too as seen in the references) that is available here:\n",
    "http://dx.doi.org/10.1177/0962280218795190\n",
    "where AUC, a special case of C-index, is considered. The study goes quite deep into the problem of AUC estimation with CV, and you can read it if you are interested about the research carried out in our laboratory, while EMLM course does not go that far and this year's exercise unfortunately still has this non-optimal pooling approach in use.\n",
    "- Compare the C-index produced by nested leave-one-out CV with the result of ordinary leave-one-out CV with the best value of i e.g. the feature providing the highest LOOCV C-index, and show the C-index difference between the two methods.\n",
    "- Use the provided implementation of the \"use_ith_feature\" learning algorithm and C-index functions in your exercise.\n",
    "\n",
    "As a summary, for completing this exercise implement the following steps: \n",
    "_______________________________________________________________\n",
    "#### 1. Use leave-one-out cross-validation for determining the optimal i-parameter for the data (X_alternative.csv, y_alternative.csv) from the set of possible values of i e.g. {1,...,100}. When you have found the optimal i, save the corresponding C-index (call it loo_c_index) for this parameter.\n",
    "#### 2. Similarly, use nested leave-one-out cross-validation (leave-one-out both in outer and inner folds) for estimating the C-index (call it nloo_c_index) of the method that selects the best feature with leave-one-out approach. \n",
    "#### 3. Return both this notebook and as a PDF-file made from it in the exercise submit page. \n",
    "_______________________________________________________________\n",
    "\n",
    "Remember to use the provided learning algorithm use_ith_feature and C-index functions in your implementation! "
   ]
  },
  {
   "cell_type": "markdown",
   "metadata": {},
   "source": [
    "## Import libraries"
   ]
  },
  {
   "cell_type": "code",
   "execution_count": 11,
   "metadata": {},
   "outputs": [],
   "source": [
    "#In this cell import all libraries you need. For example: \n",
    "import numpy as np\n",
    "import pandas as pd\n",
    "from sklearn.model_selection import LeaveOneOut"
   ]
  },
  {
   "cell_type": "markdown",
   "metadata": {},
   "source": [
    "## Provided functions "
   ]
  },
  {
   "cell_type": "code",
   "execution_count": 2,
   "metadata": {},
   "outputs": [],
   "source": [
    "\"\"\"\n",
    "C-index function: \n",
    "- INPUTS: \n",
    "'y' an array of the true output values\n",
    "'yp' an array of predicted output values\n",
    "- OUTPUT: \n",
    "The c-index value\n",
    "\"\"\"\n",
    "def cindex(y, yp):\n",
    "    n = 0\n",
    "    h_num = 0 \n",
    "    for i in range(0, len(y)):\n",
    "        t = y[i]\n",
    "        p = yp[i]\n",
    "        for j in range(i+1, len(y)):\n",
    "            nt = y[j]\n",
    "            np = yp[j]\n",
    "            if (t != nt): \n",
    "                n = n + 1\n",
    "                if (p < np and t < nt) or (p > np and t > nt): \n",
    "                    h_num += 1\n",
    "                elif (p == np):\n",
    "                    h_num += 0.5\n",
    "    return h_num/n\n",
    "\n",
    "\"\"\"\n",
    "Self-contained 1-nearest neighbor using only a single feature\n",
    "- INPUTS: \n",
    "'X_train' a numpy matrix of the X-features of the train data points\n",
    "'y_train' a numpy matrix of the output values of the train data points\n",
    "'X_test' a numpy matrix of the X-features of the test data points\n",
    "'i' the index of the feature to be used with 1-nearest neighbor\n",
    "- OUTPUT: \n",
    "'y_predictions' a list of the output value predictions\n",
    "\"\"\"\n",
    "def use_ith_feature(X_train, y_train, X_test, i):\n",
    "    y_predictions = []\n",
    "    for test_ind in range(0, X_test.shape[0]):\n",
    "        diff = X_test[test_ind, i] - X_train[:, i]\n",
    "        distances = np.sqrt(diff * diff)\n",
    "        sort_inds = np.array(np.argsort(distances), dtype=int)\n",
    "        y_predictions.append(y_train[sort_inds[0]])\n",
    "    return y_predictions\n"
   ]
  },
  {
   "cell_type": "markdown",
   "metadata": {},
   "source": [
    "## Your implementation here"
   ]
  },
  {
   "cell_type": "code",
   "execution_count": null,
   "metadata": {},
   "outputs": [],
   "source": []
  },
  {
   "cell_type": "code",
   "execution_count": 17,
   "metadata": {},
   "outputs": [],
   "source": [
    "# In this cell implement the required tasks\n",
    "\n",
    "X = np.genfromtxt('X_alternative.csv', delimiter = ',')\n",
    "y = np.genfromtxt('y_alternative.csv')"
   ]
  },
  {
   "cell_type": "code",
   "execution_count": 12,
   "metadata": {},
   "outputs": [],
   "source": [
    "loo = LeaveOneOut()\n"
   ]
  },
  {
   "cell_type": "code",
   "execution_count": 13,
   "metadata": {},
   "outputs": [],
   "source": [
    "results = []\n",
    "\n",
    "for i in range(100):\n",
    "    yp = []\n",
    "    \n",
    "    for fold, (train_index, test_index) in enumerate(loo.split(X)):\n",
    "        X_train, y_train, X_test = X[train_index], y[train_index], X[test_index]\n",
    "        yp.append(use_ith_feature(X_train, y_train, X_test, i)[0])\n",
    "        \n",
    "    results.append(cindex(y,yp))\n",
    "    i+=1"
   ]
  },
  {
   "cell_type": "code",
   "execution_count": 16,
   "metadata": {},
   "outputs": [
    {
     "data": {
      "text/plain": [
       "[0.3793103448275862,\n",
       " 0.532183908045977,\n",
       " 0.3563218390804598,\n",
       " 0.5850574712643678,\n",
       " 0.5597701149425287,\n",
       " 0.5517241379310345,\n",
       " 0.3850574712643678,\n",
       " 0.5057471264367817,\n",
       " 0.4471264367816092,\n",
       " 0.5057471264367817,\n",
       " 0.5183908045977011,\n",
       " 0.5057471264367817,\n",
       " 0.4471264367816092,\n",
       " 0.4091954022988506,\n",
       " 0.5149425287356322,\n",
       " 0.32068965517241377,\n",
       " 0.6011494252873564,\n",
       " 0.5080459770114942,\n",
       " 0.593103448275862,\n",
       " 0.539080459770115,\n",
       " 0.5298850574712644,\n",
       " 0.49310344827586206,\n",
       " 0.5551724137931034,\n",
       " 0.4908045977011494,\n",
       " 0.46551724137931033,\n",
       " 0.5091954022988506,\n",
       " 0.4540229885057471,\n",
       " 0.535632183908046,\n",
       " 0.5252873563218391,\n",
       " 0.3448275862068966,\n",
       " 0.4494252873563218,\n",
       " 0.5172413793103449,\n",
       " 0.4862068965517241,\n",
       " 0.3620689655172414,\n",
       " 0.5850574712643678,\n",
       " 0.5505747126436782,\n",
       " 0.3275862068965517,\n",
       " 0.4011494252873563,\n",
       " 0.5275862068965518,\n",
       " 0.38045977011494253,\n",
       " 0.40804597701149425,\n",
       " 0.37471264367816093,\n",
       " 0.32988505747126434,\n",
       " 0.4850574712643678,\n",
       " 0.542528735632184,\n",
       " 0.5827586206896552,\n",
       " 0.4114942528735632,\n",
       " 0.5505747126436782,\n",
       " 0.44482758620689655,\n",
       " 0.5103448275862069,\n",
       " 0.3816091954022989,\n",
       " 0.4942528735632184,\n",
       " 0.3310344827586207,\n",
       " 0.5057471264367817,\n",
       " 0.6241379310344828,\n",
       " 0.432183908045977,\n",
       " 0.5183908045977011,\n",
       " 0.5574712643678161,\n",
       " 0.44482758620689655,\n",
       " 0.4896551724137931,\n",
       " 0.506896551724138,\n",
       " 0.29540229885057473,\n",
       " 0.4459770114942529,\n",
       " 0.4045977011494253,\n",
       " 0.31839080459770114,\n",
       " 0.39195402298850573,\n",
       " 0.4827586206896552,\n",
       " 0.5103448275862069,\n",
       " 0.36551724137931035,\n",
       " 0.5333333333333333,\n",
       " 0.4,\n",
       " 0.535632183908046,\n",
       " 0.5551724137931034,\n",
       " 0.31494252873563217,\n",
       " 0.46436781609195404,\n",
       " 0.5574712643678161,\n",
       " 0.6620689655172414,\n",
       " 0.5988505747126437,\n",
       " 0.44482758620689655,\n",
       " 0.40804597701149425,\n",
       " 0.4839080459770115,\n",
       " 0.4114942528735632,\n",
       " 0.4942528735632184,\n",
       " 0.4735632183908046,\n",
       " 0.39080459770114945,\n",
       " 0.3839080459770115,\n",
       " 0.4793103448275862,\n",
       " 0.5379310344827586,\n",
       " 0.48160919540229885,\n",
       " 0.5045977011494253,\n",
       " 0.5022988505747127,\n",
       " 0.4482758620689655,\n",
       " 0.3931034482758621,\n",
       " 0.41724137931034483,\n",
       " 0.49885057471264366,\n",
       " 0.506896551724138,\n",
       " 0.4793103448275862,\n",
       " 0.5977011494252874,\n",
       " 0.3850574712643678,\n",
       " 0.48735632183908045]"
      ]
     },
     "execution_count": 16,
     "metadata": {},
     "output_type": "execute_result"
    }
   ],
   "source": [
    "results"
   ]
  }
 ],
 "metadata": {
  "kernelspec": {
   "display_name": "Python 3",
   "language": "python",
   "name": "python3"
  },
  "language_info": {
   "codemirror_mode": {
    "name": "ipython",
    "version": 3
   },
   "file_extension": ".py",
   "mimetype": "text/x-python",
   "name": "python",
   "nbconvert_exporter": "python",
   "pygments_lexer": "ipython3",
   "version": "3.10.7 (main, Nov 24 2022, 19:45:47) [GCC 12.2.0]"
  },
  "toc": {
   "base_numbering": 1,
   "nav_menu": {},
   "number_sections": false,
   "sideBar": true,
   "skip_h1_title": false,
   "title_cell": "Table of Contents",
   "title_sidebar": "Contents",
   "toc_cell": false,
   "toc_position": {},
   "toc_section_display": true,
   "toc_window_display": true
  },
  "varInspector": {
   "cols": {
    "lenName": 16,
    "lenType": 16,
    "lenVar": 40
   },
   "kernels_config": {
    "python": {
     "delete_cmd_postfix": "",
     "delete_cmd_prefix": "del ",
     "library": "var_list.py",
     "varRefreshCmd": "print(var_dic_list())"
    },
    "r": {
     "delete_cmd_postfix": ") ",
     "delete_cmd_prefix": "rm(",
     "library": "var_list.r",
     "varRefreshCmd": "cat(var_dic_list()) "
    }
   },
   "types_to_exclude": [
    "module",
    "function",
    "builtin_function_or_method",
    "instance",
    "_Feature"
   ],
   "window_display": false
  },
  "vscode": {
   "interpreter": {
    "hash": "31f2aee4e71d21fbe5cf8b01ff0e069b9275f58929596ceb00d14d90e3e16cd6"
   }
  }
 },
 "nbformat": 4,
 "nbformat_minor": 2
}
